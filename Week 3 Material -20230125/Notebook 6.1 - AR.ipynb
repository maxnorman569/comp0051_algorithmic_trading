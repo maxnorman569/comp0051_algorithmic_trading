{
 "cells": [
  {
   "cell_type": "code",
   "execution_count": 3,
   "metadata": {},
   "outputs": [
    {
     "ename": "ModuleNotFoundError",
     "evalue": "No module named 'statsmodels'",
     "output_type": "error",
     "traceback": [
      "\u001b[0;31m---------------------------------------------------------------------------\u001b[0m",
      "\u001b[0;31mModuleNotFoundError\u001b[0m                       Traceback (most recent call last)",
      "Cell \u001b[0;32mIn[3], line 10\u001b[0m\n\u001b[1;32m      7\u001b[0m \u001b[39mfrom\u001b[39;00m \u001b[39mpandas\u001b[39;00m\u001b[39m.\u001b[39;00m\u001b[39mplotting\u001b[39;00m \u001b[39mimport\u001b[39;00m lag_plot\n\u001b[1;32m      8\u001b[0m \u001b[39mfrom\u001b[39;00m \u001b[39mpandas\u001b[39;00m\u001b[39m.\u001b[39;00m\u001b[39mplotting\u001b[39;00m \u001b[39mimport\u001b[39;00m autocorrelation_plot\n\u001b[0;32m---> 10\u001b[0m \u001b[39mimport\u001b[39;00m \u001b[39mstatsmodels\u001b[39;00m\n\u001b[1;32m     11\u001b[0m \u001b[39mimport\u001b[39;00m \u001b[39mstatsmodels\u001b[39;00m\u001b[39m.\u001b[39;00m\u001b[39mapi\u001b[39;00m \u001b[39mas\u001b[39;00m \u001b[39msm\u001b[39;00m\n\u001b[1;32m     14\u001b[0m df_amzn \u001b[39m=\u001b[39m pandas\u001b[39m.\u001b[39mread_excel(\u001b[39m'\u001b[39m\u001b[39mamzn.xlsx\u001b[39m\u001b[39m'\u001b[39m)\n",
      "\u001b[0;31mModuleNotFoundError\u001b[0m: No module named 'statsmodels'"
     ]
    }
   ],
   "source": [
    "# https://machinelearningmastery.com/autoregression-models-time-series-forecasting-python/\n",
    "%matplotlib inline\n",
    "\n",
    "import pandas\n",
    "import matplotlib.pyplot as plt\n",
    "import numpy as np\n",
    "from pandas.plotting import lag_plot\n",
    "from pandas.plotting import autocorrelation_plot\n",
    "\n",
    "import statsmodels\n",
    "import statsmodels.api as sm\n",
    "\n",
    "\n",
    "df_amzn = pandas.read_excel('amzn.xlsx')\n",
    "close_amzn = df_amzn['Close']\n",
    "\n",
    "\n",
    "plt.plot(close_amzn)\n",
    "plt.show()\n",
    "\n",
    "lag_plot(close_amzn)\n",
    "plt.show()\n",
    "\n",
    "autocorrelation_plot(close_amzn)\n",
    "plt.show()\n",
    "\n",
    "autocorrelation_plot(np.diff(np.log(close_amzn)))\n",
    "plt.show()\n"
   ]
  },
  {
   "cell_type": "code",
   "execution_count": 139,
   "metadata": {},
   "outputs": [
    {
     "name": "stdout",
     "output_type": "stream",
     "text": [
      "Lag: 2\n",
      "Coefficients: [9.38180027e+00 9.86680196e-01 7.68307079e-03]\n"
     ]
    },
    {
     "data": {
      "image/png": "[encoded data removed]",
      "text/plain": [
       "<Figure size 432x288 with 1 Axes>"
      ]
     },
     "metadata": {
      "needs_background": "light"
     },
     "output_type": "display_data"
    }
   ],
   "source": [
    "from statsmodels.tsa.ar_model import AR\n",
    "from sklearn.metrics import mean_squared_error\n",
    "\n",
    "# train autoregression\n",
    "# split dataset\n",
    "X = close_amzn.values\n",
    "train, test = X[1:len(X)-200], X[len(X)-200:]\n",
    "\n",
    "window =2 \n",
    "model = statsmodels.tsa.ar_model.AutoReg(train, window)\n",
    "model_fit = model.fit()\n",
    "\n",
    "coef = model_fit.params\n",
    "# walk forward over time steps in test\n",
    "history = train[len(train)-window:]\n",
    "history = [history[i] for i in range(len(history))]\n",
    "fittedvalues = list()\n",
    "for t in range(len(train)):\n",
    "    length = len(history)\n",
    "    lag = [history[i] for i in range(length-window,length)]\n",
    "    yhat = coef[0]\n",
    "    for d in range(window):\n",
    "        yhat += coef[d+1] * lag[window-d-1]\n",
    "    obs = train[t]\n",
    "    fittedvalues.append(yhat)\n",
    "    history.append(obs)\n",
    "    \n",
    "print('Lag: %s' % window)\n",
    "print('Coefficients: %s' % model_fit.params)\n",
    "\n",
    "plt.plot(train)\n",
    "plt.plot(fittedvalues, color='red')\n",
    "plt.show()"
   ]
  },
  {
   "cell_type": "code",
   "execution_count": 141,
   "metadata": {},
   "outputs": [
    {
     "name": "stdout",
     "output_type": "stream",
     "text": [
      "Lag: 100\n",
      "Coefficients: const         12.118846\n",
      "Close.L1       0.998569\n",
      "Close.L2      -0.082166\n",
      "Close.L3       0.053336\n",
      "Close.L4       0.040671\n",
      "                ...    \n",
      "Close.L96     -0.029655\n",
      "Close.L97      0.064101\n",
      "Close.L98     -0.029224\n",
      "Close.L99     -0.019745\n",
      "Close.L100     0.012837\n",
      "Length: 101, dtype: float64\n",
      "Test MSE: 712.100\n"
     ]
    }
   ],
   "source": [
    "from statsmodels.tsa.ar_model import AR\n",
    "from sklearn.metrics import mean_squared_error\n",
    "\n",
    "# split dataset\n",
    "X = close_amzn\n",
    "\n",
    "window =100\n",
    "train, test = X[window:len(X)-200], X[len(X)-200:]\n",
    "\n",
    "# train autoregression\n",
    "model = statsmodels.tsa.ar_model.AutoReg(train, window)\n",
    "model_fit = model.fit()\n",
    "\n",
    "print('Lag: %s' % window)\n",
    "print('Coefficients: %s' % model_fit.params)\n",
    "# make predictions\n",
    "predictions = model_fit.forecast(steps=len(test))\n",
    "error = mean_squared_error(test,predictions)\n",
    "print('Test MSE: %.3f' % error)"
   ]
  },
  {
   "cell_type": "code",
   "execution_count": null,
   "metadata": {},
   "outputs": [],
   "source": []
  },
  {
   "cell_type": "code",
   "execution_count": null,
   "metadata": {},
   "outputs": [],
   "source": []
  },
  {
   "cell_type": "code",
   "execution_count": null,
   "metadata": {},
   "outputs": [],
   "source": []
  },
  {
   "cell_type": "code",
   "execution_count": null,
   "metadata": {},
   "outputs": [],
   "source": []
  }
 ],
 "metadata": {
  "kernelspec": {
   "display_name": "comp0051_env",
   "language": "python",
   "name": "python3"
  },
  "language_info": {
   "codemirror_mode": {
    "name": "ipython",
    "version": 3
   },
   "file_extension": ".py",
   "mimetype": "text/x-python",
   "name": "python",
   "nbconvert_exporter": "python",
   "pygments_lexer": "ipython3",
   "version": "3.10.7 (v3.10.7:6cc6b13308, Sep  5 2022, 14:02:52) [Clang 13.0.0 (clang-1300.0.29.30)]"
  },
  "vscode": {
   "interpreter": {
    "hash": "e776b777eb43513710295c3bd3ffc5bfc091b85f5c44dbbb343a9a8b711c806c"
   }
  }
 },
 "nbformat": 4,
 "nbformat_minor": 2
}
