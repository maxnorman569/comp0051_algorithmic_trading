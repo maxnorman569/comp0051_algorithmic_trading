{
 "cells": [
  {
   "cell_type": "code",
   "execution_count": 3,
   "metadata": {},
   "outputs": [
    {
     "data": {
      "image/png": "[encoded data removed]",
      "text/plain": [
       "<Figure size 432x288 with 1 Axes>"
      ]
     },
     "metadata": {
      "needs_background": "light"
     },
     "output_type": "display_data"
    }
   ],
   "source": [
    "import matplotlib.pyplot as plt\n",
    "\n",
    "import random\n",
    "import math\n",
    "import numpy as np\n",
    "\n",
    "def perm_impact(x, gamma):\n",
    "    return x*gamma\n",
    "\n",
    "def temp_impact(x, epsilon, eta ):\n",
    "    return epsilon*np.sign(x) + eta*x \n",
    "\n",
    "def expected_impact(x, tau, gamma, epsilon, eta):\n",
    "    \n",
    "    dx = - np.diff(x) \n",
    "    g = [perm_impact(dx[i]/tau, gamma)  for i in range(len(dx))]\n",
    "    h = [temp_impact(dx[i]/tau, epsilon, eta)  for i in range(len(dx))]\n",
    "    return tau*np.dot(g, x[1:]) + np.dot(h,dx)\n",
    "    \n",
    "\n",
    "def variance_impact(x,sigma,tau):\n",
    "    return sigma*sigma*tau*np.dot(x[1:],x[1:])\n",
    "\n",
    "\n",
    "def optimal_frontier(X0,T,lam,tau,gamma,epsilon,eta,sigma):\n",
    "    kappa = np.sqrt((lam*sigma**2)/eta)\n",
    "    t05 = np.tanh(0.5*kappa*tau)\n",
    "    s1 = np.sinh(kappa*tau)\n",
    "    s1T = np.sinh(kappa*T)\n",
    "    s2T = np.sinh(2*kappa*T)\n",
    "    c1 = np.cosh(kappa*(T-tau))\n",
    "    expected_loss = 0.5*gamma*X0**2+epsilon*X0+eta*X0**2*(t05*(tau*s2T+2*T*s1))/(2*tau**2*s1T**2)\n",
    "    variance_loss = 0.5*sigma**2*X0**2*(tau*s1T*c1-T*s1)/(s1T**2*s1)\n",
    "    return expected_loss, variance_loss\n",
    "    \n",
    "\n",
    "steps = 100\n",
    "X0 = 100 \n",
    "\n",
    "x = [X0 - i*X0/(steps-1)   for i in range(steps)]\n",
    "\n",
    "lam = 0.0001\n",
    "tau = 0.1\n",
    "gamma = 0.1\n",
    "epsilon = 0.1\n",
    "eta = 0.1\n",
    "sigma = 0.1\n",
    "\n",
    "E1 = expected_impact(x, tau, gamma, epsilon, eta)\n",
    "V1 = variance_impact(x,sigma,tau)\n",
    "\n",
    "x = [0   for i in range(steps)]\n",
    "x[0] = X0\n",
    "\n",
    "E2 = expected_impact(x, tau, gamma, epsilon, eta)\n",
    "V2 = variance_impact(x,sigma,tau)\n",
    "\n",
    "E3, V3 = optimal_frontier(X0,steps*tau,lam,tau,gamma,epsilon,eta,sigma)\n",
    "\n",
    "Elist = []\n",
    "Vlist = []\n",
    "\n",
    "order_executions = steps \n",
    "for i in range(order_executions-1):\n",
    "    eff_steps = i+1 \n",
    "    x = [X0 - (k*(k <eff_steps) + (eff_steps) *(k>=eff_steps) ) *X0/(eff_steps)   for k in range(steps)]\n",
    "    E = expected_impact(x, tau, gamma, epsilon, eta)\n",
    "    V = variance_impact(x,sigma,tau)\n",
    "    Elist.append(E)\n",
    "    Vlist.append(V)\n",
    "    \n",
    "     \n",
    "plt.plot(V1,E1,'r-o')\n",
    "plt.plot(V2,E2,'g-o')\n",
    "plt.plot(V3,E3,'b-o')\n",
    "\n",
    "    \n",
    "plt.plot(Vlist,Elist,'.')\n",
    "\n",
    "plt.xlabel('Variance')\n",
    "plt.ylabel('Expected Loss');\n"
   ]
  },
  {
   "cell_type": "code",
   "execution_count": 4,
   "metadata": {},
   "outputs": [
    {
     "data": {
      "text/plain": [
       "[<matplotlib.lines.Line2D at 0x113027588>]"
      ]
     },
     "execution_count": 4,
     "metadata": {},
     "output_type": "execute_result"
    },
    {
     "data": {
      "image/png": "[encoded data removed]",
      "text/plain": [
       "<Figure size 432x288 with 1 Axes>"
      ]
     },
     "metadata": {
      "needs_background": "light"
     },
     "output_type": "display_data"
    }
   ],
   "source": [
    "#Example of order execution \n",
    "\n",
    "eff_steps = steps/2\n",
    "x = [X0 - (k*(k <eff_steps) + (eff_steps) *(k>=eff_steps) ) *X0/(eff_steps)   for k in range(steps)]\n",
    "\n",
    "plt.plot(x)"
   ]
  },
  {
   "cell_type": "code",
   "execution_count": null,
   "metadata": {},
   "outputs": [],
   "source": []
  },
  {
   "cell_type": "code",
   "execution_count": null,
   "metadata": {},
   "outputs": [],
   "source": []
  },
  {
   "cell_type": "code",
   "execution_count": null,
   "metadata": {},
   "outputs": [],
   "source": []
  },
  {
   "cell_type": "code",
   "execution_count": null,
   "metadata": {},
   "outputs": [],
   "source": []
  }
 ],
 "metadata": {
  "kernelspec": {
   "display_name": "Python 3",
   "language": "python",
   "name": "python3"
  },
  "language_info": {
   "codemirror_mode": {
    "name": "ipython",
    "version": 3
   },
   "file_extension": ".py",
   "mimetype": "text/x-python",
   "name": "python",
   "nbconvert_exporter": "python",
   "pygments_lexer": "ipython3",
   "version": "3.6.8"
  }
 },
 "nbformat": 4,
 "nbformat_minor": 2
}
