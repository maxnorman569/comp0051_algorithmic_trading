{
 "cells": [
  {
   "cell_type": "code",
   "execution_count": 3,
   "metadata": {},
   "outputs": [],
   "source": [
    "from utilities.processing_utility import *"
   ]
  },
  {
   "cell_type": "code",
   "execution_count": 2,
   "metadata": {},
   "outputs": [
    {
     "ename": "NameError",
     "evalue": "name 'get_closing_price_from_yfinance' is not defined",
     "output_type": "error",
     "traceback": [
      "\u001b[0;31m---------------------------------------------------------------------------\u001b[0m",
      "\u001b[0;31mNameError\u001b[0m                                 Traceback (most recent call last)",
      "Cell \u001b[0;32mIn[2], line 1\u001b[0m\n\u001b[0;32m----> 1\u001b[0m p_df \u001b[39m=\u001b[39m get_closing_price_from_yfinance(\n\u001b[1;32m      2\u001b[0m     ticker_symbol \u001b[39m=\u001b[39m \u001b[39m'\u001b[39m\u001b[39mSPY\u001b[39m\u001b[39m'\u001b[39m,\n\u001b[1;32m      3\u001b[0m     start_date \u001b[39m=\u001b[39m datetime\u001b[39m.\u001b[39mdatetime(\u001b[39m2014\u001b[39m, \u001b[39m1\u001b[39m, \u001b[39m1\u001b[39m),\n\u001b[1;32m      4\u001b[0m     end_date \u001b[39m=\u001b[39m datetime\u001b[39m.\u001b[39mdatetime(\u001b[39m2019\u001b[39m, \u001b[39m12\u001b[39m, \u001b[39m31\u001b[39m),\n\u001b[1;32m      5\u001b[0m     adjusted\u001b[39m=\u001b[39m\u001b[39mTrue\u001b[39;00m\n\u001b[1;32m      6\u001b[0m )\n",
      "\u001b[0;31mNameError\u001b[0m: name 'get_closing_price_from_yfinance' is not defined"
     ]
    }
   ],
   "source": [
    "p_df = get_closing_price_from_yfinance(\n",
    "    ticker_symbol = 'SPY',\n",
    "    start_date = datetime.datetime(2014, 1, 1),\n",
    "    end_date = datetime.datetime(2019, 12, 31),\n",
    "    adjusted=True\n",
    ")"
   ]
  },
  {
   "cell_type": "code",
   "execution_count": 3,
   "metadata": {},
   "outputs": [],
   "source": [
    "daily_effr_df = get_effr_from_nyfed(\n",
    "    start_date = datetime.datetime(2014, 1, 1),\n",
    "    end_date = datetime.datetime(2019, 12, 31),\n",
    "    daily=True)"
   ]
  },
  {
   "cell_type": "code",
   "execution_count": 4,
   "metadata": {},
   "outputs": [],
   "source": [
    "df = get_daily_excess_return(p_df, daily_effr_df)"
   ]
  },
  {
   "cell_type": "code",
   "execution_count": 5,
   "metadata": {},
   "outputs": [
    {
     "data": {
      "text/html": [
       "<div>\n",
       "<style scoped>\n",
       "    .dataframe tbody tr th:only-of-type {\n",
       "        vertical-align: middle;\n",
       "    }\n",
       "\n",
       "    .dataframe tbody tr th {\n",
       "        vertical-align: top;\n",
       "    }\n",
       "\n",
       "    .dataframe thead th {\n",
       "        text-align: right;\n",
       "    }\n",
       "</style>\n",
       "<table border=\"1\" class=\"dataframe\">\n",
       "  <thead>\n",
       "    <tr style=\"text-align: right;\">\n",
       "      <th></th>\n",
       "      <th>adjusted_close_price</th>\n",
       "      <th>daily_effr</th>\n",
       "      <th>daily_returns</th>\n",
       "      <th>daily_excess_returns</th>\n",
       "    </tr>\n",
       "  </thead>\n",
       "  <tbody>\n",
       "    <tr>\n",
       "      <th>2014-01-02</th>\n",
       "      <td>154.400223</td>\n",
       "      <td>0.000003</td>\n",
       "      <td>0.000000</td>\n",
       "      <td>0.000000</td>\n",
       "    </tr>\n",
       "    <tr>\n",
       "      <th>2014-01-03</th>\n",
       "      <td>154.374893</td>\n",
       "      <td>0.000003</td>\n",
       "      <td>-0.000164</td>\n",
       "      <td>-0.000167</td>\n",
       "    </tr>\n",
       "    <tr>\n",
       "      <th>2014-01-06</th>\n",
       "      <td>153.927551</td>\n",
       "      <td>0.000003</td>\n",
       "      <td>-0.002898</td>\n",
       "      <td>-0.002901</td>\n",
       "    </tr>\n",
       "    <tr>\n",
       "      <th>2014-01-07</th>\n",
       "      <td>154.872910</td>\n",
       "      <td>0.000003</td>\n",
       "      <td>0.006142</td>\n",
       "      <td>0.006139</td>\n",
       "    </tr>\n",
       "    <tr>\n",
       "      <th>2014-01-08</th>\n",
       "      <td>154.906708</td>\n",
       "      <td>0.000003</td>\n",
       "      <td>0.000218</td>\n",
       "      <td>0.000215</td>\n",
       "    </tr>\n",
       "    <tr>\n",
       "      <th>...</th>\n",
       "      <td>...</td>\n",
       "      <td>...</td>\n",
       "      <td>...</td>\n",
       "      <td>...</td>\n",
       "    </tr>\n",
       "    <tr>\n",
       "      <th>2019-12-23</th>\n",
       "      <td>305.051147</td>\n",
       "      <td>0.000062</td>\n",
       "      <td>0.001528</td>\n",
       "      <td>0.001466</td>\n",
       "    </tr>\n",
       "    <tr>\n",
       "      <th>2019-12-24</th>\n",
       "      <td>305.060699</td>\n",
       "      <td>0.000062</td>\n",
       "      <td>0.000031</td>\n",
       "      <td>-0.000030</td>\n",
       "    </tr>\n",
       "    <tr>\n",
       "      <th>2019-12-26</th>\n",
       "      <td>306.684631</td>\n",
       "      <td>0.000062</td>\n",
       "      <td>0.005323</td>\n",
       "      <td>0.005262</td>\n",
       "    </tr>\n",
       "    <tr>\n",
       "      <th>2019-12-27</th>\n",
       "      <td>306.608612</td>\n",
       "      <td>0.000062</td>\n",
       "      <td>-0.000248</td>\n",
       "      <td>-0.000309</td>\n",
       "    </tr>\n",
       "    <tr>\n",
       "      <th>2019-12-30</th>\n",
       "      <td>304.918213</td>\n",
       "      <td>0.000062</td>\n",
       "      <td>-0.005513</td>\n",
       "      <td>-0.005575</td>\n",
       "    </tr>\n",
       "  </tbody>\n",
       "</table>\n",
       "<p>1498 rows × 4 columns</p>\n",
       "</div>"
      ],
      "text/plain": [
       "            adjusted_close_price  daily_effr  daily_returns  \\\n",
       "2014-01-02            154.400223    0.000003       0.000000   \n",
       "2014-01-03            154.374893    0.000003      -0.000164   \n",
       "2014-01-06            153.927551    0.000003      -0.002898   \n",
       "2014-01-07            154.872910    0.000003       0.006142   \n",
       "2014-01-08            154.906708    0.000003       0.000218   \n",
       "...                          ...         ...            ...   \n",
       "2019-12-23            305.051147    0.000062       0.001528   \n",
       "2019-12-24            305.060699    0.000062       0.000031   \n",
       "2019-12-26            306.684631    0.000062       0.005323   \n",
       "2019-12-27            306.608612    0.000062      -0.000248   \n",
       "2019-12-30            304.918213    0.000062      -0.005513   \n",
       "\n",
       "            daily_excess_returns  \n",
       "2014-01-02              0.000000  \n",
       "2014-01-03             -0.000167  \n",
       "2014-01-06             -0.002901  \n",
       "2014-01-07              0.006139  \n",
       "2014-01-08              0.000215  \n",
       "...                          ...  \n",
       "2019-12-23              0.001466  \n",
       "2019-12-24             -0.000030  \n",
       "2019-12-26              0.005262  \n",
       "2019-12-27             -0.000309  \n",
       "2019-12-30             -0.005575  \n",
       "\n",
       "[1498 rows x 4 columns]"
      ]
     },
     "execution_count": 5,
     "metadata": {},
     "output_type": "execute_result"
    }
   ],
   "source": [
    "df"
   ]
  },
  {
   "cell_type": "code",
   "execution_count": 8,
   "metadata": {},
   "outputs": [
    {
     "name": "stdout",
     "output_type": "stream",
     "text": [
      "[*********************100%***********************]  1 of 1 completed\n"
     ]
    }
   ],
   "source": [
    "df__ = get_q_2_cw_data()"
   ]
  },
  {
   "cell_type": "code",
   "execution_count": 7,
   "metadata": {},
   "outputs": [],
   "source": [
    "import matplotlib.pyplot as plt"
   ]
  },
  {
   "cell_type": "code",
   "execution_count": 9,
   "metadata": {},
   "outputs": [
    {
     "data": {
      "text/plain": [
       "[<matplotlib.lines.Line2D at 0x12abf3940>]"
      ]
     },
     "execution_count": 9,
     "metadata": {},
     "output_type": "execute_result"
    },
    {
     "data": {
      "image/png": "[encoded data removed]",
      "text/plain": [
       "<Figure size 640x480 with 1 Axes>"
      ]
     },
     "metadata": {},
     "output_type": "display_data"
    }
   ],
   "source": [
    "plt.plot(df__['normalised_excess_returns'])"
   ]
  },
  {
   "cell_type": "code",
   "execution_count": null,
   "metadata": {},
   "outputs": [],
   "source": []
  }
 ],
 "metadata": {
  "kernelspec": {
   "display_name": "comp0051_env",
   "language": "python",
   "name": "python3"
  },
  "language_info": {
   "codemirror_mode": {
    "name": "ipython",
    "version": 3
   },
   "file_extension": ".py",
   "mimetype": "text/x-python",
   "name": "python",
   "nbconvert_exporter": "python",
   "pygments_lexer": "ipython3",
   "version": "3.10.7"
  },
  "orig_nbformat": 4
 },
 "nbformat": 4,
 "nbformat_minor": 2
}
